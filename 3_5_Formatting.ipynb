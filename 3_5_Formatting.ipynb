{
  "cells": [
    {
      "cell_type": "markdown",
      "metadata": {
        "id": "view-in-github",
        "colab_type": "text"
      },
      "source": [
        "<a href=\"https://colab.research.google.com/github/susie682/Infosys722--Assignment-4-BDAS/blob/main/3_5_Formatting.ipynb\" target=\"_parent\"><img src=\"https://colab.research.google.com/assets/colab-badge.svg\" alt=\"Open In Colab\"/></a>"
      ]
    },
    {
      "cell_type": "markdown",
      "id": "331bc964",
      "metadata": {
        "id": "331bc964"
      },
      "source": [
        "\n",
        "# Section 3.5 — Formatting Data (Inline Figures)\n",
        "\n",
        "This version **both saves and displays** figures inside the notebook using `display(fig)` and `plt.close(fig)` to avoid duplicate renders.\n"
      ]
    },
    {
      "cell_type": "markdown",
      "id": "ae70d69b",
      "metadata": {
        "id": "ae70d69b"
      },
      "source": [
        "\n",
        "**Environment**: Google Colab + PySpark  \n",
        "**Input**: `/content/drive/MyDrive/Infosys 722/CrimeData_2017.csv`  \n",
        "**Outputs**:  \n",
        "- Figures → `/content/drive/MyDrive/Infosys 722/figs/` (Fig. 41 & 42)  \n",
        "- Tables  → `/content/drive/MyDrive/Infosys 722/tables/` (`features_district_month.csv`)\n"
      ]
    },
    {
      "cell_type": "code",
      "execution_count": 1,
      "id": "f522c2d5",
      "metadata": {
        "colab": {
          "base_uri": "https://localhost:8080/"
        },
        "id": "f522c2d5",
        "outputId": "123b9b36-8218-4cf4-9bbf-c4aed09c2c81"
      },
      "outputs": [
        {
          "output_type": "stream",
          "name": "stdout",
          "text": [
            "Mounted at /content/drive\n",
            "Environment ready.\n"
          ]
        }
      ],
      "source": [
        "\n",
        "from google.colab import drive\n",
        "drive.mount('/content/drive', force_remount=True)\n",
        "\n",
        "# If needed:\n",
        "# !apt-get install -y openjdk-11-jdk-headless -qq\n",
        "# !pip install -q pyspark==3.5.1\n",
        "\n",
        "import os\n",
        "os.environ[\"JAVA_HOME\"] = \"/usr/lib/jvm/java-11-openjdk-amd64\"\n",
        "os.environ[\"PYSPARK_PYTHON\"] = \"python3\"\n",
        "print(\"Environment ready.\")\n"
      ]
    },
    {
      "cell_type": "code",
      "execution_count": 2,
      "id": "44e80ec7",
      "metadata": {
        "colab": {
          "base_uri": "https://localhost:8080/",
          "height": 219
        },
        "id": "44e80ec7",
        "outputId": "5ded5863-ae9b-4188-a19c-389e6c34a418"
      },
      "outputs": [
        {
          "output_type": "execute_result",
          "data": {
            "text/plain": [
              "<pyspark.sql.session.SparkSession at 0x7c83394607d0>"
            ],
            "text/html": [
              "\n",
              "            <div>\n",
              "                <p><b>SparkSession - in-memory</b></p>\n",
              "                \n",
              "        <div>\n",
              "            <p><b>SparkContext</b></p>\n",
              "\n",
              "            <p><a href=\"http://05b0bd73d6e8:4040\">Spark UI</a></p>\n",
              "\n",
              "            <dl>\n",
              "              <dt>Version</dt>\n",
              "                <dd><code>v3.5.1</code></dd>\n",
              "              <dt>Master</dt>\n",
              "                <dd><code>local[*]</code></dd>\n",
              "              <dt>AppName</dt>\n",
              "                <dd><code>BDAS-3.5-Formatting-Inline</code></dd>\n",
              "            </dl>\n",
              "        </div>\n",
              "        \n",
              "            </div>\n",
              "        "
            ]
          },
          "metadata": {},
          "execution_count": 2
        }
      ],
      "source": [
        "\n",
        "from pyspark.sql import SparkSession\n",
        "spark = SparkSession.builder.appName(\"BDAS-3.5-Formatting-Inline\").getOrCreate()\n",
        "spark\n"
      ]
    },
    {
      "cell_type": "code",
      "execution_count": 3,
      "id": "81ff15f2",
      "metadata": {
        "colab": {
          "base_uri": "https://localhost:8080/"
        },
        "id": "81ff15f2",
        "outputId": "2e960dd9-323a-41f3-988f-ed533e71a909"
      },
      "outputs": [
        {
          "output_type": "stream",
          "name": "stdout",
          "text": [
            "Using: /content/drive/MyDrive/Infosys 722/CrimeData_2017.csv\n"
          ]
        }
      ],
      "source": [
        "\n",
        "DATA_PATH = \"/content/drive/MyDrive/Infosys 722/CrimeData_2017.csv\"\n",
        "FIG_DIR  = \"/content/drive/MyDrive/Infosys 722/figs\"\n",
        "TAB_DIR  = \"/content/drive/MyDrive/Infosys 722/tables\"\n",
        "import os\n",
        "os.makedirs(FIG_DIR, exist_ok=True)\n",
        "os.makedirs(TAB_DIR, exist_ok=True)\n",
        "print(\"Using:\", DATA_PATH)\n"
      ]
    },
    {
      "cell_type": "code",
      "execution_count": 4,
      "id": "c0eef34c",
      "metadata": {
        "colab": {
          "base_uri": "https://localhost:8080/"
        },
        "id": "c0eef34c",
        "outputId": "966249e6-235f-402a-cb98-d5d688fa2f64"
      },
      "outputs": [
        {
          "output_type": "stream",
          "name": "stdout",
          "text": [
            "df_base columns: 22\n",
            "Row count: 267562\n"
          ]
        }
      ],
      "source": [
        "\n",
        "from pyspark.sql import functions as F\n",
        "\n",
        "df_raw = spark.read.csv(DATA_PATH, header=True, inferSchema=True)\n",
        "\n",
        "canonical_cols = [\n",
        "    \"ID\",\"Case Number\",\"Date\",\"Block\",\"IUCR\",\"Primary Type\",\"Description\",\n",
        "    \"Location Description\",\"Arrest\",\"Domestic\",\"Beat\",\"District\",\"Ward\",\n",
        "    \"Community Area\",\"FBI Code\",\"X Coordinate\",\"Y Coordinate\",\"Year\",\n",
        "    \"Updated On\",\"Latitude\",\"Longitude\",\"Location\"\n",
        "]\n",
        "\n",
        "def norm(s): return \"\".join(ch.lower() for ch in s if ch.isalnum())\n",
        "raw_norm_map = {norm(c): c for c in df_raw.columns}\n",
        "\n",
        "found = {}\n",
        "for c in canonical_cols:\n",
        "    key = norm(c)\n",
        "    if key in raw_norm_map:\n",
        "        found[c] = raw_norm_map[key]\n",
        "\n",
        "select_exprs = [F.col(found[c]).alias(c) for c in canonical_cols if c in found]\n",
        "df_base = df_raw.select(*select_exprs)\n",
        "\n",
        "print(\"df_base columns:\", len(df_base.columns))\n",
        "print(\"Row count:\", df_base.count())\n"
      ]
    },
    {
      "cell_type": "code",
      "execution_count": 7,
      "id": "42391e8c",
      "metadata": {
        "id": "42391e8c"
      },
      "outputs": [],
      "source": [
        "from pyspark.sql import functions as F\n",
        "\n",
        "def to_binary_safe(colname: str):\n",
        "    \"\"\"\n",
        "    Robust 0/1 encoder:\n",
        "    - Cast to string, trim, lowercase\n",
        "    - Treat 1/y/yes/true/t as 1; everything else (incl. null) as 0\n",
        "    \"\"\"\n",
        "    s = F.lower(F.trim(F.col(colname).cast(\"string\")))\n",
        "    return F.when(s.isin(\"1\", \"y\", \"yes\", \"true\", \"t\"), 1).otherwise(0)\n",
        "\n",
        "df_proc = (\n",
        "    df_base\n",
        "    .withColumn(\"Arrest_bin\",   to_binary_safe(\"Arrest\"))\n",
        "    .withColumn(\"Domestic_bin\", to_binary_safe(\"Domestic\"))\n",
        "    .withColumn(\"ts\", F.to_timestamp(\"Date\", \"MM/dd/yyyy hh:mm:ss a\"))\n",
        "    .withColumn(\"Year\", F.year(\"ts\"))\n",
        "    .filter(F.col(\"Year\") == 2017)\n",
        "    .withColumn(\"Month\", F.month(\"ts\"))\n",
        "    .withColumn(\"DayOfWeek\", F.date_format(\"ts\",\"u\").cast(\"int\"))\n",
        "    .withColumn(\"Hour\", F.hour(\"ts\"))\n",
        "    .withColumn(\"HourBin\",\n",
        "        F.when(F.col(\"Hour\").between(0,5), 0)\n",
        "         .when(F.col(\"Hour\").between(6,11), 1)\n",
        "         .when(F.col(\"Hour\").between(12,17), 2)\n",
        "         .otherwise(3)\n",
        "    )\n",
        ")\n"
      ]
    },
    {
      "cell_type": "code",
      "execution_count": 8,
      "id": "71333797",
      "metadata": {
        "colab": {
          "base_uri": "https://localhost:8080/",
          "height": 524
        },
        "id": "71333797",
        "outputId": "7605b9a0-aea5-4eac-8ced-ef552bcf22f0"
      },
      "outputs": [
        {
          "output_type": "stream",
          "name": "stdout",
          "text": [
            "Saved Figure 41: /content/drive/MyDrive/Infosys 722/figs/fig41_arrest_canonicalized.png\n"
          ]
        },
        {
          "output_type": "display_data",
          "data": {
            "text/plain": [
              "<Figure size 800x500 with 1 Axes>"
            ],
            "image/png": "[encoded data removed]"
          },
          "metadata": {}
        }
      ],
      "source": [
        "\n",
        "# Figure 41 — Save AND display inline\n",
        "import matplotlib.pyplot as plt\n",
        "from IPython.display import display\n",
        "\n",
        "counts_arrest = df_proc.groupBy(\"Arrest_bin\").count().orderBy(\"Arrest_bin\").toPandas()\n",
        "vals = counts_arrest[\"Arrest_bin\"].values\n",
        "cts  = counts_arrest[\"count\"].values\n",
        "\n",
        "fig, ax = plt.subplots(figsize=(8,5))\n",
        "bars = ax.bar(vals, cts, width=0.6)\n",
        "for b, c in zip(bars, cts):\n",
        "    ax.text(b.get_x()+b.get_width()/2, c+max(cts)*0.01, f\"{c:,}\", ha=\"center\", va=\"bottom\")\n",
        "ax.set_xticks(vals); ax.set_xlabel(\"Value\"); ax.set_ylabel(\"Count\")\n",
        "ax.set_title(\"Arrest — Canonicalized 0/1 (After)\")\n",
        "fig.tight_layout()\n",
        "\n",
        "fig_path_41 = f\"{FIG_DIR}/fig41_arrest_canonicalized.png\"\n",
        "fig.savefig(fig_path_41, bbox_inches=\"tight\", dpi=150)\n",
        "print(\"Saved Figure 41:\", fig_path_41)\n",
        "\n",
        "display(fig)\n",
        "plt.close(fig)\n"
      ]
    },
    {
      "cell_type": "code",
      "execution_count": 9,
      "id": "a3d1f0a8",
      "metadata": {
        "colab": {
          "base_uri": "https://localhost:8080/",
          "height": 524
        },
        "id": "a3d1f0a8",
        "outputId": "63df4ca2-1a70-4ec0-9469-c3ce22009f0b"
      },
      "outputs": [
        {
          "output_type": "stream",
          "name": "stdout",
          "text": [
            "Saved Figure 42: /content/drive/MyDrive/Infosys 722/figs/fig42_domestic_canonicalized.png\n"
          ]
        },
        {
          "output_type": "display_data",
          "data": {
            "text/plain": [
              "<Figure size 800x500 with 1 Axes>"
            ],
            "image/png": "[encoded data removed]"
          },
          "metadata": {}
        }
      ],
      "source": [
        "\n",
        "# Figure 42 — Save AND display inline\n",
        "import matplotlib.pyplot as plt\n",
        "from IPython.display import display\n",
        "\n",
        "counts_domestic = df_proc.groupBy(\"Domestic_bin\").count().orderBy(\"Domestic_bin\").toPandas()\n",
        "vals = counts_domestic[\"Domestic_bin\"].values\n",
        "cts  = counts_domestic[\"count\"].values\n",
        "\n",
        "fig, ax = plt.subplots(figsize=(8,5))\n",
        "bars = ax.bar(vals, cts, width=0.6)\n",
        "for b, c in zip(bars, cts):\n",
        "    ax.text(b.get_x()+b.get_width()/2, c+max(cts)*0.01, f\"{c:,}\", ha=\"center\", va=\"bottom\")\n",
        "ax.set_xticks(vals); ax.set_xlabel(\"Value\"); ax.set_ylabel(\"Count\")\n",
        "ax.set_title(\"Domestic — Canonicalized 0/1 (After)\")\n",
        "fig.tight_layout()\n",
        "\n",
        "fig_path_42 = f\"{FIG_DIR}/fig42_domestic_canonicalized.png\"\n",
        "fig.savefig(fig_path_42, bbox_inches=\"tight\", dpi=150)\n",
        "print(\"Saved Figure 42:\", fig_path_42)\n",
        "\n",
        "display(fig)\n",
        "plt.close(fig)\n"
      ]
    },
    {
      "cell_type": "code",
      "execution_count": 10,
      "id": "68bcc099",
      "metadata": {
        "colab": {
          "base_uri": "https://localhost:8080/"
        },
        "id": "68bcc099",
        "outputId": "346b2afb-23b8-4495-f6ba-244b602a3bcd"
      },
      "outputs": [
        {
          "output_type": "stream",
          "name": "stdout",
          "text": [
            "Wrote modelling table to: /content/drive/MyDrive/Infosys 722/tables/features_district_month.csv\n"
          ]
        }
      ],
      "source": [
        "\n",
        "from pyspark.sql import functions as F, Window\n",
        "\n",
        "grp = [\"District\",\"Month\"]\n",
        "total = df_proc.groupBy(*grp).agg(\n",
        "    F.count(F.lit(1)).alias(\"Total\"),\n",
        "    F.sum(\"Arrest_bin\").alias(\"Arrests\"),\n",
        "    F.sum(\"Domestic_bin\").alias(\"Domestics\"),\n",
        "    F.sum(F.when(F.col(\"HourBin\")==0, 1).otherwise(0)).alias(\"NightCnt\")\n",
        ")\n",
        "\n",
        "feat = (total\n",
        "    .withColumn(\"ArrestRate\",  (F.col(\"Arrests\")/F.col(\"Total\")).cast(\"double\"))\n",
        "    .withColumn(\"DomesticRate\",(F.col(\"Domestics\")/F.col(\"Total\")).cast(\"double\"))\n",
        "    .withColumn(\"NightShare\",  (F.col(\"NightCnt\")/F.col(\"Total\")).cast(\"double\"))\n",
        ")\n",
        "\n",
        "w = Window.partitionBy(\"District\").orderBy(\"Month\")\n",
        "\n",
        "feat = (feat\n",
        "    .withColumn(\"Lag1_Total\", F.lag(\"Total\", 1).over(w))\n",
        "    .withColumn(\"Lag3_Total\", F.lag(\"Total\", 3).over(w))\n",
        "    .withColumn(\"Roll3_Total\", F.avg(\"Total\").over(w.rowsBetween(-2,0)))\n",
        ")\n",
        "\n",
        "# Impute lag-induced NaNs via within-district medians\n",
        "med = feat.groupBy(\"District\").agg(\n",
        "    F.expr(\"percentile_approx(Lag1_Total, 0.5)\").alias(\"med_Lag1\"),\n",
        "    F.expr(\"percentile_approx(Lag3_Total, 0.5)\").alias(\"med_Lag3\"),\n",
        "    F.expr(\"percentile_approx(Roll3_Total, 0.5)\").alias(\"med_Roll3\"),\n",
        ")\n",
        "feat_imp = (feat.alias(\"f\")\n",
        "  .join(med.alias(\"m\"), on=\"District\", how=\"left\")\n",
        "  .selectExpr(\"f.*\",\n",
        "              \"COALESCE(Lag1_Total, med_Lag1) as Lag1_Total_imp\",\n",
        "              \"COALESCE(Lag3_Total, med_Lag3) as Lag3_Total_imp\",\n",
        "              \"COALESCE(Roll3_Total, med_Roll3) as Roll3_Total_imp\")\n",
        ")\n",
        "\n",
        "# Save modelling table (single-file folder)\n",
        "out_dir = \"/content/drive/MyDrive/Infosys 722/tables/features_district_month.csv\"\n",
        "(feat_imp.orderBy(\"District\",\"Month\")\n",
        " .coalesce(1).write.mode(\"overwrite\").option(\"header\", True).csv(out_dir))\n",
        "print(\"Wrote modelling table to:\", out_dir)\n"
      ]
    }
  ],
  "metadata": {
    "colab": {
      "provenance": [],
      "include_colab_link": true
    },
    "language_info": {
      "name": "python"
    },
    "kernelspec": {
      "name": "python3",
      "display_name": "Python 3"
    }
  },
  "nbformat": 4,
  "nbformat_minor": 5
}